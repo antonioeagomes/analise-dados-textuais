{
 "cells": [
  {
   "cell_type": "code",
   "execution_count": 5,
   "metadata": {},
   "outputs": [],
   "source": [
    "import numpy as np\n",
    "import nltk\n",
    "from nltk import tokenize"
   ]
  },
  {
   "cell_type": "markdown",
   "metadata": {},
   "source": [
    "**Utilizando as técnicas aprendidas sobre análise de sentimentos defina a polaridade dos arquivos presentes na pasta “Lista 05”. Utiliza os arquivos positive_words.txt e negative_words.text presentes na pasta.**"
   ]
  },
  {
   "cell_type": "code",
   "execution_count": 7,
   "metadata": {},
   "outputs": [],
   "source": [
    "review1 = open('review1.txt').read()\n",
    "review2 = open('review2.txt').read()\n",
    "review3 = open('review3.txt').read()\n",
    "stopwords = nltk.corpus.stopwords.words('english')"
   ]
  },
  {
   "cell_type": "code",
   "execution_count": 10,
   "metadata": {},
   "outputs": [
    {
     "data": {
      "text/plain": [
       "['in',\n",
       " 'teenager',\n",
       " 'martha',\n",
       " 'moxley',\n",
       " 'maggie',\n",
       " 'grace',\n",
       " 'moves',\n",
       " 'area',\n",
       " 'belle',\n",
       " 'haven',\n",
       " 'greenwich',\n",
       " 'connecticut',\n",
       " 'on',\n",
       " 'mischief',\n",
       " 'night',\n",
       " 'eve',\n",
       " 'halloween',\n",
       " 'murdered',\n",
       " 'backyard',\n",
       " 'house',\n",
       " 'murder',\n",
       " 'remained',\n",
       " 'unsolved',\n",
       " 'years',\n",
       " 'later',\n",
       " 'writer',\n",
       " 'mark',\n",
       " 'fuhrman',\n",
       " 'christopher',\n",
       " 'meloni',\n",
       " 'former',\n",
       " 'la',\n",
       " 'detective',\n",
       " 'fallen',\n",
       " 'disgrace',\n",
       " 'perjury',\n",
       " 'simpson',\n",
       " 'trial',\n",
       " 'moved',\n",
       " 'idaho',\n",
       " 'decides',\n",
       " 'investigate',\n",
       " 'case',\n",
       " 'partner',\n",
       " 'stephen',\n",
       " 'weeks',\n",
       " 'andrew',\n",
       " 'mitchell',\n",
       " 'purpose',\n",
       " 'writing',\n",
       " 'book',\n",
       " 'the',\n",
       " 'locals',\n",
       " 'squirm',\n",
       " 'welcome',\n",
       " 'support',\n",
       " 'retired',\n",
       " 'detective',\n",
       " 'steve',\n",
       " 'carroll',\n",
       " 'robert',\n",
       " 'forster',\n",
       " 'charge',\n",
       " 'investigation',\n",
       " 'discover',\n",
       " 'criminal',\n",
       " 'net',\n",
       " 'power',\n",
       " 'money',\n",
       " 'cover',\n",
       " 'murder',\n",
       " 'murder',\n",
       " 'greenwich',\n",
       " 'good',\n",
       " 'tv',\n",
       " 'movie',\n",
       " 'true',\n",
       " 'story',\n",
       " 'murder',\n",
       " 'fifteen',\n",
       " 'years',\n",
       " 'old',\n",
       " 'girl',\n",
       " 'committed',\n",
       " 'wealthy',\n",
       " 'teenager',\n",
       " 'whose',\n",
       " 'mother',\n",
       " 'kennedy',\n",
       " 'the',\n",
       " 'powerful',\n",
       " 'rich',\n",
       " 'family',\n",
       " 'used',\n",
       " 'influence',\n",
       " 'cover',\n",
       " 'murder',\n",
       " 'twenty',\n",
       " 'years',\n",
       " 'however',\n",
       " 'snoopy',\n",
       " 'detective',\n",
       " 'convicted',\n",
       " 'perjurer',\n",
       " 'disgrace',\n",
       " 'able',\n",
       " 'disclose',\n",
       " 'hideous',\n",
       " 'crime',\n",
       " 'committed',\n",
       " 'the',\n",
       " 'screenplay',\n",
       " 'shows',\n",
       " 'investigation',\n",
       " 'mark',\n",
       " 'last',\n",
       " 'days',\n",
       " 'martha',\n",
       " 'parallel',\n",
       " 'lack',\n",
       " 'emotion',\n",
       " 'dramatization']"
      ]
     },
     "execution_count": 10,
     "metadata": {},
     "output_type": "execute_result"
    }
   ],
   "source": [
    "rev1_token = nltk.word_tokenize(review1)\n",
    "rev1 = [word.lower() for word in rev1_token if word.isalpha() and word not in stopwords]\n",
    "rev1"
   ]
  },
  {
   "cell_type": "code",
   "execution_count": 11,
   "metadata": {},
   "outputs": [
    {
     "data": {
      "text/plain": [
       "['hi',\n",
       " 'people',\n",
       " 'seen',\n",
       " 'wonderful',\n",
       " 'movie',\n",
       " 'im',\n",
       " 'sure',\n",
       " 'thet',\n",
       " 'would',\n",
       " 'liked',\n",
       " 'much',\n",
       " 'love',\n",
       " 'songs',\n",
       " 'seen',\n",
       " 'show',\n",
       " 'sing',\n",
       " 'along',\n",
       " 'though',\n",
       " 'part',\n",
       " 'show',\n",
       " 'singing',\n",
       " 'dancing',\n",
       " 'dancing',\n",
       " 'singing',\n",
       " 'song',\n",
       " 'one',\n",
       " 'time',\n",
       " 'fave',\n",
       " 'musical',\n",
       " 'song',\n",
       " 'strutters',\n",
       " 'end',\n",
       " 'mirror',\n",
       " 'oh',\n",
       " 'watch',\n",
       " 'one']"
      ]
     },
     "execution_count": 11,
     "metadata": {},
     "output_type": "execute_result"
    }
   ],
   "source": [
    "rev2_token = nltk.word_tokenize(review2)\n",
    "rev2 = [word.lower() for word in rev2_token if word.isalpha() and word not in stopwords]\n",
    "rev2"
   ]
  },
  {
   "cell_type": "code",
   "execution_count": 12,
   "metadata": {},
   "outputs": [
    {
     "data": {
      "text/plain": [
       "['nathan',\n",
       " 'detroit',\n",
       " 'frank',\n",
       " 'sinatra',\n",
       " 'manager',\n",
       " 'new',\n",
       " 'york',\n",
       " 'established',\n",
       " 'floating',\n",
       " 'craps',\n",
       " 'game',\n",
       " 'needs',\n",
       " 'secure',\n",
       " 'new',\n",
       " 'location',\n",
       " 'confident',\n",
       " 'odds',\n",
       " 'bets',\n",
       " 'city',\n",
       " 'sky',\n",
       " 'masterson',\n",
       " 'marlon',\n",
       " 'brando',\n",
       " 'ca',\n",
       " 'woo',\n",
       " 'uptight',\n",
       " 'missionary',\n",
       " 'sarah',\n",
       " 'brown',\n",
       " 'jean',\n",
       " 'simmons',\n",
       " 'dolls',\n",
       " 'great',\n",
       " 'musical',\n",
       " 'deftly',\n",
       " 'blends',\n",
       " 'contrasting',\n",
       " 'styles',\n",
       " 'film',\n",
       " 'stage',\n",
       " 'during',\n",
       " 'dazzling',\n",
       " 'opening',\n",
       " 'sequence',\n",
       " 'crowds',\n",
       " 'pedestrians',\n",
       " 'move',\n",
       " 'rhythm',\n",
       " 'stopping',\n",
       " 'starting',\n",
       " 'though',\n",
       " 'responding',\n",
       " 'backstage',\n",
       " 'cues',\n",
       " 'even',\n",
       " 'walking',\n",
       " 'movements',\n",
       " 'stylised',\n",
       " 'angular',\n",
       " 'halfway',\n",
       " 'walk',\n",
       " 'dance',\n",
       " 'mankiewicz',\n",
       " 'new',\n",
       " 'york',\n",
       " 'city',\n",
       " 'glittering',\n",
       " 'flurry',\n",
       " 'art',\n",
       " 'deco',\n",
       " 'colour',\n",
       " 'movement',\n",
       " 'fantasy',\n",
       " 'world',\n",
       " 'completely',\n",
       " 'removed',\n",
       " 'reality',\n",
       " 'even',\n",
       " 'business',\n",
       " 'underground',\n",
       " 'gambling',\n",
       " 'criminal',\n",
       " 'thuggery',\n",
       " 'seems',\n",
       " 'perfectly',\n",
       " 'genial',\n",
       " 'as',\n",
       " 'i',\n",
       " 'write',\n",
       " 'review',\n",
       " 'i',\n",
       " 'received',\n",
       " 'word',\n",
       " 'jean',\n",
       " 'simmons',\n",
       " 'passed',\n",
       " 'away',\n",
       " 'age',\n",
       " 'this',\n",
       " 'unbelievably',\n",
       " 'first',\n",
       " 'time',\n",
       " 'i',\n",
       " 'seen',\n",
       " 'film',\n",
       " 'yet',\n",
       " 'dazzled',\n",
       " 'beginning',\n",
       " 'her',\n",
       " 'idealistic',\n",
       " 'sarah',\n",
       " 'comes',\n",
       " 'shell',\n",
       " 'following',\n",
       " 'alcohol',\n",
       " 'binge',\n",
       " 'havana',\n",
       " 'letting',\n",
       " 'loose',\n",
       " 'adorably',\n",
       " 'playful',\n",
       " 'rendition',\n",
       " 'if',\n",
       " 'i',\n",
       " 'were',\n",
       " 'a',\n",
       " 'bell',\n",
       " 'even',\n",
       " 'though',\n",
       " 'simmons',\n",
       " 'brando',\n",
       " 'producer',\n",
       " 'sam',\n",
       " 'goldwyn',\n",
       " 'decided',\n",
       " 'dub',\n",
       " 'vocals',\n",
       " 'contending',\n",
       " 'maybe',\n",
       " 'sound',\n",
       " 'good',\n",
       " 'least',\n",
       " 'despite',\n",
       " 'goldwyn',\n",
       " 'backhanded',\n",
       " 'confidence',\n",
       " 'pair',\n",
       " 'well',\n",
       " 'carry',\n",
       " 'entire',\n",
       " 'musical',\n",
       " 'numbers',\n",
       " 'simmons',\n",
       " 'suggests',\n",
       " 'liveliness',\n",
       " 'audrey',\n",
       " 'hepburn',\n",
       " 'might',\n",
       " 'brought',\n",
       " 'role',\n",
       " 'brando',\n",
       " 'exudes',\n",
       " 'charisma',\n",
       " 'matter',\n",
       " 'singing',\n",
       " 'voice',\n",
       " 'quite']"
      ]
     },
     "execution_count": 12,
     "metadata": {},
     "output_type": "execute_result"
    }
   ],
   "source": [
    "rev3_token = nltk.word_tokenize(review3)\n",
    "rev3 = [word.lower() for word in rev3_token if word.isalpha() and word not in stopwords]\n",
    "rev3"
   ]
  },
  {
   "cell_type": "code",
   "execution_count": 54,
   "metadata": {},
   "outputs": [
    {
     "data": {
      "text/plain": [
       "[['absolutely'], ['adorable'], ['accepted'], ['acclaimed'], ['accomplish']]"
      ]
     },
     "execution_count": 54,
     "metadata": {},
     "output_type": "execute_result"
    }
   ],
   "source": [
    "positive = []\n",
    "with open(\"positive_words.csv\", \"r\") as file:\n",
    "  reader = csv.reader(file)\n",
    "  for row in reader:\n",
    "        positive.append(row)\n",
    "positive[:5]"
   ]
  },
  {
   "cell_type": "code",
   "execution_count": 53,
   "metadata": {},
   "outputs": [
    {
     "data": {
      "text/plain": [
       "[['abysmal'], ['adverse'], ['alarming'], ['angry'], ['annoy']]"
      ]
     },
     "execution_count": 53,
     "metadata": {},
     "output_type": "execute_result"
    }
   ],
   "source": [
    "negative = []\n",
    "with open(\"negative_words.csv\", \"r\") as file:\n",
    "  reader = csv.reader(file)\n",
    "  for row in reader:\n",
    "        negative.append(row)\n",
    "negative[:5]"
   ]
  },
  {
   "cell_type": "code",
   "execution_count": 55,
   "metadata": {},
   "outputs": [],
   "source": [
    "def sentiment(token):\n",
    "    p_count = 0\n",
    "    n_count = 0\n",
    "    for word in token:\n",
    "        for item in positive:\n",
    "            if(word == item[0]):\n",
    "                p_count +=1\n",
    "        for item in negative:\n",
    "            if(word == item[0]):\n",
    "                n_count +=1\n",
    "    p_avg = round((p_count / len(token)), 2) * 100\n",
    "    n_avg = round((n_count / len(token)), 2) * 100\n",
    "    #percentual de palavras positivas, subtraido do percentual de negativas\n",
    "    return (p_avg - n_avg)"
   ]
  },
  {
   "cell_type": "code",
   "execution_count": 56,
   "metadata": {},
   "outputs": [
    {
     "data": {
      "text/plain": [
       "1.0"
      ]
     },
     "execution_count": 56,
     "metadata": {},
     "output_type": "execute_result"
    }
   ],
   "source": [
    "sentiment(rev1)"
   ]
  },
  {
   "cell_type": "code",
   "execution_count": 51,
   "metadata": {},
   "outputs": [
    {
     "data": {
      "text/plain": [
       "11.0"
      ]
     },
     "execution_count": 51,
     "metadata": {},
     "output_type": "execute_result"
    }
   ],
   "source": [
    "sentiment(rev2)"
   ]
  },
  {
   "cell_type": "code",
   "execution_count": 52,
   "metadata": {},
   "outputs": [
    {
     "data": {
      "text/plain": [
       "2.0"
      ]
     },
     "execution_count": 52,
     "metadata": {},
     "output_type": "execute_result"
    }
   ],
   "source": [
    "sentiment(rev3)"
   ]
  },
  {
   "cell_type": "code",
   "execution_count": null,
   "metadata": {},
   "outputs": [],
   "source": []
  }
 ],
 "metadata": {
  "kernelspec": {
   "display_name": "Python 3",
   "language": "python",
   "name": "python3"
  },
  "language_info": {
   "codemirror_mode": {
    "name": "ipython",
    "version": 3
   },
   "file_extension": ".py",
   "mimetype": "text/x-python",
   "name": "python",
   "nbconvert_exporter": "python",
   "pygments_lexer": "ipython3",
   "version": "3.7.4"
  }
 },
 "nbformat": 4,
 "nbformat_minor": 4
}
