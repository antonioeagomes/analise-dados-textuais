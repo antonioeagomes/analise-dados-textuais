{
 "cells": [
  {
   "cell_type": "code",
   "execution_count": 1,
   "metadata": {},
   "outputs": [
    {
     "name": "stderr",
     "output_type": "stream",
     "text": [
      "[nltk_data] Downloading package gutenberg to\n",
      "[nltk_data]     /home/emmanuel/nltk_data...\n",
      "[nltk_data]   Package gutenberg is already up-to-date!\n",
      "[nltk_data] Downloading package punkt to /home/emmanuel/nltk_data...\n",
      "[nltk_data]   Package punkt is already up-to-date!\n"
     ]
    },
    {
     "data": {
      "text/plain": [
       "True"
      ]
     },
     "execution_count": 1,
     "metadata": {},
     "output_type": "execute_result"
    }
   ],
   "source": [
    "import nltk\n",
    "nltk.download('gutenberg')\n",
    "nltk.download('punkt')"
   ]
  },
  {
   "cell_type": "markdown",
   "metadata": {},
   "source": [
    "*Importação do conteúdo*"
   ]
  },
  {
   "cell_type": "code",
   "execution_count": 3,
   "metadata": {},
   "outputs": [],
   "source": [
    "caesar = nltk.corpus.gutenberg.words('shakespeare-caesar.txt')\n",
    "hamlet = nltk.corpus.gutenberg.words('shakespeare-hamlet.txt')\n",
    "macbeth = nltk.corpus.gutenberg.words('shakespeare-macbeth.txt')"
   ]
  },
  {
   "cell_type": "markdown",
   "metadata": {},
   "source": [
    "**a) Número total de palavras**"
   ]
  },
  {
   "cell_type": "code",
   "execution_count": 33,
   "metadata": {},
   "outputs": [
    {
     "name": "stdout",
     "output_type": "stream",
     "text": [
      "Quantidade de palavras em \"Caesar:\" 25833\n"
     ]
    }
   ],
   "source": [
    "qt_caesar = len(caesar)\n",
    "print('Quantidade de palavras em \"Caesar:\"', qt_caesar)"
   ]
  },
  {
   "cell_type": "code",
   "execution_count": 36,
   "metadata": {},
   "outputs": [
    {
     "name": "stdout",
     "output_type": "stream",
     "text": [
      "Quantidade de palavras em \"Hamlet:\" 37360\n"
     ]
    }
   ],
   "source": [
    "qt_hamlet = len(hamlet)\n",
    "print('Quantidade de palavras em \"Hamlet:\"', qt_hamlet)"
   ]
  },
  {
   "cell_type": "code",
   "execution_count": 37,
   "metadata": {},
   "outputs": [
    {
     "name": "stdout",
     "output_type": "stream",
     "text": [
      "Quantidade de palavras em \"MacBeth:\" 23140\n"
     ]
    }
   ],
   "source": [
    "qt_mac = len(macbeth)\n",
    "print('Quantidade de palavras em \"MacBeth:\"', qt_mac)"
   ]
  },
  {
   "cell_type": "markdown",
   "metadata": {},
   "source": [
    "**b) Número total de sentenças**"
   ]
  },
  {
   "cell_type": "code",
   "execution_count": 8,
   "metadata": {},
   "outputs": [],
   "source": [
    "caesar_sents = nltk.corpus.gutenberg.sents('shakespeare-caesar.txt')\n",
    "hamlet_sents = nltk.corpus.gutenberg.sents('shakespeare-hamlet.txt')\n",
    "macbet_sents = nltk.corpus.gutenberg.sents('shakespeare-macbeth.txt')"
   ]
  },
  {
   "cell_type": "code",
   "execution_count": 38,
   "metadata": {},
   "outputs": [
    {
     "name": "stdout",
     "output_type": "stream",
     "text": [
      "Quantidade de sentenças em \"Caesar:\" 2163\n"
     ]
    }
   ],
   "source": [
    "qtd_sents_caesar = len(caesar_sents)\n",
    "print('Quantidade de sentenças em \"Caesar:\"', qtd_sents_caesar)"
   ]
  },
  {
   "cell_type": "code",
   "execution_count": 39,
   "metadata": {},
   "outputs": [
    {
     "name": "stdout",
     "output_type": "stream",
     "text": [
      "Quantidade de sentenças em \"Hamlet:\" 3106\n"
     ]
    }
   ],
   "source": [
    "qtd_sents_ham = len(hamlet_sents)\n",
    "print('Quantidade de sentenças em \"Hamlet:\"', qtd_sents_ham)"
   ]
  },
  {
   "cell_type": "code",
   "execution_count": 40,
   "metadata": {},
   "outputs": [
    {
     "name": "stdout",
     "output_type": "stream",
     "text": [
      "Quantidade de sentenças em \"MacBeth:\" 1907\n"
     ]
    }
   ],
   "source": [
    "qtd_sents_mac = len(macbet_sents)\n",
    "print('Quantidade de sentenças em \"MacBeth:\"', qtd_sents_mac)"
   ]
  },
  {
   "cell_type": "markdown",
   "metadata": {},
   "source": [
    "**c) Número total de palavras não repetidas**"
   ]
  },
  {
   "cell_type": "code",
   "execution_count": 29,
   "metadata": {},
   "outputs": [
    {
     "name": "stdout",
     "output_type": "stream",
     "text": [
      "Quantidade de palavras únicas em \"Caesar:\" 3560\n"
     ]
    }
   ],
   "source": [
    "print('Quantidade de palavras únicas em \"Caesar:\"', len(set(caesar)))"
   ]
  },
  {
   "cell_type": "code",
   "execution_count": 28,
   "metadata": {},
   "outputs": [
    {
     "name": "stdout",
     "output_type": "stream",
     "text": [
      "Quantidade de palavras únicas em \"Hamlet:\" 5447\n"
     ]
    }
   ],
   "source": [
    "print('Quantidade de palavras únicas em \"Hamlet:\"', len(set(hamlet)))"
   ]
  },
  {
   "cell_type": "code",
   "execution_count": 27,
   "metadata": {},
   "outputs": [
    {
     "name": "stdout",
     "output_type": "stream",
     "text": [
      "Quantidade de palavras únicas em \"MacBeth:\" 4017\n"
     ]
    }
   ],
   "source": [
    "print('Quantidade de palavras únicas em \"MacBeth:\"', len(set(macbeth)))"
   ]
  },
  {
   "cell_type": "markdown",
   "metadata": {},
   "source": [
    "**d) Número total de palavras repetidas**"
   ]
  },
  {
   "cell_type": "code",
   "execution_count": 30,
   "metadata": {},
   "outputs": [
    {
     "name": "stdout",
     "output_type": "stream",
     "text": [
      "Quantidade de palavras repetidas em \"Caesar:\" 22273\n"
     ]
    }
   ],
   "source": [
    "qtd_rep_caesar = (len(caesar)) - len(set(caesar))\n",
    "print('Quantidade de palavras repetidas em \"Caesar:\"', qtd_rep_caesar)"
   ]
  },
  {
   "cell_type": "code",
   "execution_count": 31,
   "metadata": {},
   "outputs": [
    {
     "name": "stdout",
     "output_type": "stream",
     "text": [
      "Quantidade de palavras repetidas em \"Hamlet:\" 31913\n"
     ]
    }
   ],
   "source": [
    "qtd_rep_hamlet = (len(hamlet)) - len(set(hamlet))\n",
    "print('Quantidade de palavras repetidas em \"Hamlet:\"', qtd_rep_hamlet)"
   ]
  },
  {
   "cell_type": "code",
   "execution_count": 32,
   "metadata": {},
   "outputs": [
    {
     "name": "stdout",
     "output_type": "stream",
     "text": [
      "Quantidade de palavras repetidas em \"MacBeth:\" 19123\n"
     ]
    }
   ],
   "source": [
    "qtd_rep_mac = (len(macbeth)) - len(set(macbeth))\n",
    "print('Quantidade de palavras repetidas em \"MacBeth:\"', qtd_rep_mac)"
   ]
  },
  {
   "cell_type": "markdown",
   "metadata": {},
   "source": [
    "**e) Média de palavras por sentença**"
   ]
  },
  {
   "cell_type": "code",
   "execution_count": 41,
   "metadata": {},
   "outputs": [
    {
     "name": "stdout",
     "output_type": "stream",
     "text": [
      "Média de palavras por sentença em \"Caesar:\" 11.943134535367545\n"
     ]
    }
   ],
   "source": [
    "media_caesar = qt_caesar / qtd_sents_caesar\n",
    "print('Média de palavras por sentença em \"Caesar:\"', media_caesar)"
   ]
  },
  {
   "cell_type": "code",
   "execution_count": 42,
   "metadata": {},
   "outputs": [
    {
     "name": "stdout",
     "output_type": "stream",
     "text": [
      "Média de palavras por sentença em \"Hamlet:\" 12.028332260141662\n"
     ]
    }
   ],
   "source": [
    "media_ham = qt_hamlet / qtd_sents_ham\n",
    "print('Média de palavras por sentença em \"Hamlet:\"', media_ham)"
   ]
  },
  {
   "cell_type": "code",
   "execution_count": 43,
   "metadata": {},
   "outputs": [
    {
     "name": "stdout",
     "output_type": "stream",
     "text": [
      "Média de palavras por sentença em \"MacBeth:\" 12.134242265338228\n"
     ]
    }
   ],
   "source": [
    "media_mac = qt_mac / qtd_sents_mac\n",
    "print('Média de palavras por sentença em \"MacBeth:\"', media_mac)"
   ]
  },
  {
   "cell_type": "markdown",
   "metadata": {},
   "source": [
    "**2) Em relação ao corpus “gutenberg” implemente os algoritmos para responder às seguintes questões**"
   ]
  },
  {
   "cell_type": "markdown",
   "metadata": {},
   "source": [
    "a) Total de palavras em cada documento do corpus \"gutenberg\""
   ]
  },
  {
   "cell_type": "code",
   "execution_count": 53,
   "metadata": {},
   "outputs": [
    {
     "name": "stdout",
     "output_type": "stream",
     "text": [
      "[(192427, 'austen-emma.txt'), (98171, 'austen-persuasion.txt'), (141576, 'austen-sense.txt'), (1010654, 'bible-kjv.txt'), (8354, 'blake-poems.txt'), (55563, 'bryant-stories.txt'), (18963, 'burgess-busterbrown.txt'), (34110, 'carroll-alice.txt'), (96996, 'chesterton-ball.txt'), (86063, 'chesterton-brown.txt'), (69213, 'chesterton-thursday.txt'), (210663, 'edgeworth-parents.txt'), (260819, 'melville-moby_dick.txt'), (96825, 'milton-paradise.txt'), (25833, 'shakespeare-caesar.txt'), (37360, 'shakespeare-hamlet.txt'), (23140, 'shakespeare-macbeth.txt'), (154883, 'whitman-leaves.txt')]\n"
     ]
    }
   ],
   "source": [
    "biblioteca = nltk.corpus.gutenberg.fileids()\n",
    "livros = [(len(nltk.corpus.gutenberg.words(livro)), livro) for livro in biblioteca]\n",
    "print(livros)"
   ]
  },
  {
   "cell_type": "markdown",
   "metadata": {},
   "source": [
    "b) Quem é o maior documento do corpus?"
   ]
  },
  {
   "cell_type": "code",
   "execution_count": 54,
   "metadata": {},
   "outputs": [
    {
     "data": {
      "text/plain": [
       "(1010654, 'bible-kjv.txt')"
      ]
     },
     "execution_count": 54,
     "metadata": {},
     "output_type": "execute_result"
    }
   ],
   "source": [
    "max(livros)"
   ]
  },
  {
   "cell_type": "markdown",
   "metadata": {},
   "source": [
    "c) Quem é o menor documento do corpus?"
   ]
  },
  {
   "cell_type": "code",
   "execution_count": 55,
   "metadata": {},
   "outputs": [
    {
     "data": {
      "text/plain": [
       "(8354, 'blake-poems.txt')"
      ]
     },
     "execution_count": 55,
     "metadata": {},
     "output_type": "execute_result"
    }
   ],
   "source": [
    "min(livros)"
   ]
  },
  {
   "cell_type": "markdown",
   "metadata": {},
   "source": [
    "d) Calcular a média da quantidade sentenças por palavras docorpus “gutenberg”."
   ]
  },
  {
   "cell_type": "code",
   "execution_count": 63,
   "metadata": {},
   "outputs": [
    {
     "name": "stdout",
     "output_type": "stream",
     "text": [
      "O livro austen-emma.txt tem uma média de  24.82 palavras por sentença\n",
      "O livro austen-persuasion.txt tem uma média de  26.2 palavras por sentença\n",
      "O livro austen-sense.txt tem uma média de  28.32 palavras por sentença\n",
      "O livro bible-kjv.txt tem uma média de  33.57 palavras por sentença\n",
      "O livro blake-poems.txt tem uma média de  19.07 palavras por sentença\n",
      "O livro bryant-stories.txt tem uma média de  19.41 palavras por sentença\n",
      "O livro burgess-busterbrown.txt tem uma média de  17.99 palavras por sentença\n",
      "O livro carroll-alice.txt tem uma média de  20.03 palavras por sentença\n",
      "O livro chesterton-ball.txt tem uma média de  20.3 palavras por sentença\n",
      "O livro chesterton-brown.txt tem uma média de  22.61 palavras por sentença\n",
      "O livro chesterton-thursday.txt tem uma média de  18.5 palavras por sentença\n",
      "O livro edgeworth-parents.txt tem uma média de  20.59 palavras por sentença\n",
      "O livro melville-moby_dick.txt tem uma média de  25.93 palavras por sentença\n",
      "O livro milton-paradise.txt tem uma média de  52.31 palavras por sentença\n",
      "O livro shakespeare-caesar.txt tem uma média de  11.94 palavras por sentença\n",
      "O livro shakespeare-hamlet.txt tem uma média de  12.03 palavras por sentença\n",
      "O livro shakespeare-macbeth.txt tem uma média de  12.13 palavras por sentença\n",
      "O livro whitman-leaves.txt tem uma média de  36.44 palavras por sentença\n"
     ]
    }
   ],
   "source": [
    "for livro in biblioteca:\n",
    "    palavras = len(nltk.corpus.gutenberg.words(livro))\n",
    "    sentencas = len(nltk.corpus.gutenberg.sents(livro))\n",
    "    print(\"O livro\", livro, \"tem uma média de \", round(palavras / sentencas, 2), \"palavras por sentença\")"
   ]
  },
  {
   "cell_type": "markdown",
   "metadata": {},
   "source": [
    "e) Calcule a distribuição de frequência das palavras do livro \"shakespeare-macbeth.txt\"."
   ]
  },
  {
   "cell_type": "code",
   "execution_count": 65,
   "metadata": {},
   "outputs": [
    {
     "data": {
      "text/plain": [
       "FreqDist({',': 1962, '.': 1235, \"'\": 637, 'the': 531, ':': 477, 'and': 376, 'I': 333, 'of': 315, 'to': 311, '?': 241, ...})"
      ]
     },
     "execution_count": 65,
     "metadata": {},
     "output_type": "execute_result"
    }
   ],
   "source": [
    "freq_macbeth = nltk.FreqDist(macbeth)\n",
    "freq_macbeth"
   ]
  },
  {
   "cell_type": "markdown",
   "metadata": {},
   "source": [
    "f) Calcule 5 palavras mais frequentes nesse corpus."
   ]
  },
  {
   "cell_type": "code",
   "execution_count": 66,
   "metadata": {},
   "outputs": [
    {
     "data": {
      "text/plain": [
       "[(',', 1962), ('.', 1235), (\"'\", 637), ('the', 531), (':', 477)]"
      ]
     },
     "execution_count": 66,
     "metadata": {},
     "output_type": "execute_result"
    }
   ],
   "source": [
    "freq_macbeth.most_common(5)"
   ]
  },
  {
   "cell_type": "markdown",
   "metadata": {},
   "source": [
    "g) Mostre a diferença entre de palavras entre dois livros. (shakespeare-caesar.txt, shakespeare-hamlet.txt)"
   ]
  },
  {
   "cell_type": "code",
   "execution_count": 68,
   "metadata": {},
   "outputs": [
    {
     "name": "stdout",
     "output_type": "stream",
     "text": [
      "11527\n"
     ]
    }
   ],
   "source": [
    "diff_cae_ham = qt_hamlet - qt_caesar\n",
    "print(diff_cae_ham)"
   ]
  }
 ],
 "metadata": {
  "kernelspec": {
   "display_name": "Python 3",
   "language": "python",
   "name": "python3"
  },
  "language_info": {
   "codemirror_mode": {
    "name": "ipython",
    "version": 3
   },
   "file_extension": ".py",
   "mimetype": "text/x-python",
   "name": "python",
   "nbconvert_exporter": "python",
   "pygments_lexer": "ipython3",
   "version": "3.7.4"
  }
 },
 "nbformat": 4,
 "nbformat_minor": 4
}
